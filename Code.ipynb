{
 "cells": [
  {
   "cell_type": "markdown",
   "metadata": {
    "toc": true
   },
   "source": [
    "<h1>Table of Contents<span class=\"tocSkip\"></span></h1>\n",
    "<div class=\"toc\"><ul class=\"toc-item\"></ul></div>"
   ]
  },
  {
   "cell_type": "markdown",
   "metadata": {},
   "source": [
    "# Evaluation of effects of different parameters on Bias using Python"
   ]
  },
  {
   "cell_type": "markdown",
   "metadata": {},
   "source": [
    "Problem Statement: \n",
    "\n",
    "Estimate the model using ordinary least squares. The estimated rho value that you will find will be biased. \n",
    "Write a simulation to study this bias. See if you can find the functional form of the bias via simulation."
   ]
  },
  {
   "cell_type": "code",
   "execution_count": null,
   "metadata": {},
   "outputs": [],
   "source": [
    "import numpy as np\n",
    "import seaborn as sns\n",
    "import matplotlib.pyplot as plt# this helps to display graph\n",
    "import pandas as pd"
   ]
  },
  {
   "cell_type": "code",
   "execution_count": 4,
   "metadata": {},
   "outputs": [
    {
     "name": "stdout",
     "output_type": "stream",
     "text": [
      "Differnt values of rho on bias, keeping size constant\n",
      "[-0.020735012822943988, -0.020469282681361056, -0.02174777919674198, -0.02332915464294838, -0.02634552958352432]\n",
      "Differnt values of sizes on bias, keeping rho constant\n",
      "[-0.020735012822943988, -0.0335262746598427, 0.0007577088023813516, 0.0021248283928224643, -0.0006980211500969835]\n"
     ]
    },
    {
     "data": {
      "image/png": "[encoded data removed]",
      "text/plain": [
       "<Figure size 864x360 with 2 Axes>"
      ]
     },
     "metadata": {
      "needs_background": "light"
     },
     "output_type": "display_data"
    }
   ],
   "source": [
    "\n",
    "def data(n,rho):\n",
    "    np.random.seed(1)\n",
    "    x = np.random.normal(size=(n,))\n",
    "    for i in range(1,n):\n",
    "        x[i] += rho*x[i-1]\n",
    "\n",
    "    yvec = x[1:]\n",
    "    xvec = x[:-1].reshape(-1,1)\n",
    "    ones = np.ones((n-1,1))\n",
    "    xvec = np.hstack((ones,xvec))\n",
    "    b = np.linalg.solve(xvec.T@xvec,xvec.T@yvec)\n",
    "    de=b[1]-rho\n",
    "    return(de)\n",
    "\n",
    "def main():\n",
    "    \n",
    "    #checking the effect of differnt values of rho on bias, keeping size constant\n",
    "    rho= np.array([0.75, 0.60, 0.50, 0.40, 0.20])\n",
    "    n = 1000\n",
    "    k=[]\n",
    "    for r in rho:\n",
    "        k.append(data(n,r))\n",
    "    print(\"Differnt values of rho on bias, keeping size constant\")\n",
    "    print(k)\n",
    "    #checking the effect of differnt values of sizes on bias, keeping rho constant\n",
    "    rho1= 0.75\n",
    "    n1 = np.array([1000, 500, 10000, 5000, 6000])\n",
    "    s=[]\n",
    "    for r in n1:\n",
    "        s.append(data(r,rho1))\n",
    "    print(\"Differnt values of sizes on bias, keeping rho constant\")\n",
    "    print(s)\n",
    "    plot(rho,k,n1,s)\n",
    "    \n",
    "def plot(x1,y1,x2,y2):\n",
    "    fig, axs = plt.subplots(ncols=2, nrows=1,sharey=True,figsize=(12,5))\n",
    "    axs = axs.flatten()\n",
    "    #Plot to explian the effect of differnt values of rho on bias, keeping size constant\n",
    "    f1 = pd.DataFrame({'Rho': x1, 'Bias': y1})\n",
    "    sns.regplot(x='Rho', y='Bias', data=f1, ax=axs[0])\n",
    "    # Plot to explian the effect of differnt values of sizes on bias, keeping rho constant\n",
    "    f2 = pd.DataFrame({'Size': x2, 'Bias': y2})\n",
    "    sns.regplot(x='Size', y='Bias',data=f2, ax=axs[1])\n",
    "    \n",
    "main()"
   ]
  }
 ],
 "metadata": {
  "kernelspec": {
   "display_name": "Python 3",
   "language": "python",
   "name": "python3"
  },
  "language_info": {
   "codemirror_mode": {
    "name": "ipython",
    "version": 3
   },
   "file_extension": ".py",
   "mimetype": "text/x-python",
   "name": "python",
   "nbconvert_exporter": "python",
   "pygments_lexer": "ipython3",
   "version": "3.7.4"
  },
  "toc": {
   "base_numbering": 1,
   "nav_menu": {},
   "number_sections": true,
   "sideBar": true,
   "skip_h1_title": false,
   "title_cell": "Table of Contents",
   "title_sidebar": "Contents",
   "toc_cell": true,
   "toc_position": {},
   "toc_section_display": true,
   "toc_window_display": true
  }
 },
 "nbformat": 4,
 "nbformat_minor": 2
}
